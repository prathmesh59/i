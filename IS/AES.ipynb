{
 "cells": [
  {
   "cell_type": "code",
   "execution_count": 1,
   "id": "26feff57",
   "metadata": {},
   "outputs": [
    {
     "name": "stdout",
     "output_type": "stream",
     "text": [
      "Defaulting to user installation because normal site-packages is not writeable\n",
      "Collecting pycryptodome\n",
      "  Downloading pycryptodome-3.18.0-cp35-abi3-win_amd64.whl (1.7 MB)\n",
      "     ---------------------------------------- 1.7/1.7 MB 2.8 MB/s eta 0:00:00\n",
      "Installing collected packages: pycryptodome\n",
      "Successfully installed pycryptodome-3.18.0\n",
      "Note: you may need to restart the kernel to use updated packages.\n"
     ]
    }
   ],
   "source": [
    "pip install pycryptodome\n"
   ]
  },
  {
   "cell_type": "code",
   "execution_count": 7,
   "id": "6f0ecac9",
   "metadata": {},
   "outputs": [
    {
     "name": "stdout",
     "output_type": "stream",
     "text": [
      "Enter the encryption key (16 bytes): 1234567890123456\n",
      "Enter the plaintext to encrypt: hghcg\n",
      "Ciphertext: b'W7\\xe8p\\x92\\xa6\\xde_E?Z\\ny\\xe8Pc\\x8d\\xa1\\x1e{)\\xa8\\xe9:\\xbd-T\\x1f\\x10e\\xce\\x03'\n",
      "Decrypted text: hghcg\n"
     ]
    }
   ],
   "source": [
    "from Crypto.Cipher import AES\n",
    "from Crypto.Util.Padding import pad, unpad\n",
    "from Crypto.Random import get_random_bytes\n",
    "\n",
    "# Encryption function\n",
    "def encrypt(key, plaintext):\n",
    "    cipher = AES.new(key, AES.MODE_CBC)\n",
    "    ciphertext = cipher.encrypt(pad(plaintext, AES.block_size))\n",
    "    return cipher.iv + ciphertext\n",
    "\n",
    "# Decryption function\n",
    "def decrypt(key, ciphertext):\n",
    "    iv = ciphertext[:AES.block_size]\n",
    "    cipher = AES.new(key, AES.MODE_CBC, iv)\n",
    "    plaintext = unpad(cipher.decrypt(ciphertext[AES.block_size:]), AES.block_size)\n",
    "    return plaintext\n",
    "\n",
    "# Get input from the user\n",
    "key = input(\"Enter the encryption key (16 bytes): \").encode()\n",
    "plaintext = input(\"Enter the plaintext to encrypt: \").encode()\n",
    "\n",
    "# Encryption\n",
    "ciphertext = encrypt(key, plaintext)\n",
    "print('Ciphertext:', ciphertext)\n",
    "\n",
    "# Decryption\n",
    "decrypted_text = decrypt(key, ciphertext)\n",
    "print('Decrypted text:', decrypted_text.decode())\n"
   ]
  },
  {
   "cell_type": "code",
   "execution_count": null,
   "id": "2bdd6b1d",
   "metadata": {},
   "outputs": [],
   "source": []
  }
 ],
 "metadata": {
  "kernelspec": {
   "display_name": "Python 3 (ipykernel)",
   "language": "python",
   "name": "python3"
  },
  "language_info": {
   "codemirror_mode": {
    "name": "ipython",
    "version": 3
   },
   "file_extension": ".py",
   "mimetype": "text/x-python",
   "name": "python",
   "nbconvert_exporter": "python",
   "pygments_lexer": "ipython3",
   "version": "3.9.13"
  }
 },
 "nbformat": 4,
 "nbformat_minor": 5
}
