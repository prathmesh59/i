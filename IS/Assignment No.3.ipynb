{
 "cells": [
  {
   "cell_type": "markdown",
   "id": "3f719963",
   "metadata": {},
   "source": [
    "# COTB42 PHULE PRATHAMESH DNYANDEV\n",
    "\n",
    "# Assignment No.3"
   ]
  },
  {
   "cell_type": "code",
   "execution_count": 1,
   "id": "0decd9b8",
   "metadata": {},
   "outputs": [
    {
     "name": "stdout",
     "output_type": "stream",
     "text": [
      "Enter first Prime No. .: 23\n",
      "Enter Second Prime No.: 13\n",
      "Enter PlainText: jskdfah\n",
      "Plaintext: jskdfah\n",
      "Ciphertext: [80, 115, 120, 87, 245, 136, 52]\n",
      "Decrypted text: jskdfah\n"
     ]
    }
   ],
   "source": [
    "import random\n",
    "\n",
    "def gcd(a, b):\n",
    "    while b != 0:\n",
    "        a, b = b, a % b\n",
    "    return a\n",
    "\n",
    "def generate_keypair(p, q):\n",
    "    n = p * q\n",
    "    phi = (p - 1) * (q - 1)\n",
    "    e = random.randrange(1, phi)\n",
    "    #print(\"e=\",e)\n",
    "    g = gcd(e, phi)\n",
    "    while g != 1:\n",
    "        e = random.randrange(1, phi)\n",
    "        g = gcd(e, phi)\n",
    "    d = multiplicative_inverse(e, phi)\n",
    "    return ((e, n), (d, n))\n",
    "\n",
    "def multiplicative_inverse(e, phi):\n",
    "    d = 0\n",
    "    x1 = 0\n",
    "    x2 = 1\n",
    "    y1 = 1\n",
    "    temp_phi = phi\n",
    "    while e > 0:\n",
    "        temp1 = temp_phi // e\n",
    "        temp2 = temp_phi - temp1 * e\n",
    "        temp_phi = e\n",
    "        e = temp2\n",
    "        x = x2 - temp1 * x1\n",
    "        y = d - temp1 * y1\n",
    "        x2 = x1\n",
    "        x1 = x\n",
    "        d = y1\n",
    "        y1 = y\n",
    "    if temp_phi == 1:\n",
    "        return d + phi\n",
    "\n",
    "def encrypt(public_key, plaintext):\n",
    "    key, n = public_key\n",
    "    cipher = [(ord(char) ** key) % n for char in plaintext]\n",
    "    return cipher\n",
    "\n",
    "def decrypt(private_key, ciphertext):\n",
    "    key, n = private_key\n",
    "    plain = [chr((char ** key) % n) for char in ciphertext]\n",
    "    return ''.join(plain)\n",
    "\n",
    "\n",
    "p = int(input(\"Enter first Prime No. .: \"))\n",
    "q = int(input(\"Enter Second Prime No.: \"))\n",
    "public_key, private_key = generate_keypair(p, q)\n",
    "\n",
    "plaintext = input(\"Enter PlainText: \")\n",
    "ciphertext = encrypt(public_key, plaintext)\n",
    "\n",
    "decrypted_text = decrypt(private_key, ciphertext)\n",
    "\n",
    "print(\"Plaintext:\", plaintext)\n",
    "print(\"Ciphertext:\", ciphertext)\n",
    "print(\"Decrypted text:\", decrypted_text)"
   ]
  },
  {
   "cell_type": "code",
   "execution_count": null,
   "id": "b161d480",
   "metadata": {},
   "outputs": [],
   "source": []
  }
 ],
 "metadata": {
  "kernelspec": {
   "display_name": "Python 3 (ipykernel)",
   "language": "python",
   "name": "python3"
  },
  "language_info": {
   "codemirror_mode": {
    "name": "ipython",
    "version": 3
   },
   "file_extension": ".py",
   "mimetype": "text/x-python",
   "name": "python",
   "nbconvert_exporter": "python",
   "pygments_lexer": "ipython3",
   "version": "3.9.13"
  }
 },
 "nbformat": 4,
 "nbformat_minor": 5
}
