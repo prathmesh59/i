{
 "cells": [
  {
   "cell_type": "markdown",
   "id": "4981ce40",
   "metadata": {},
   "source": [
    "# COTB42 PHULE PRATHAMESH DNYANDEV\n",
    "\n",
    "# Assignment No.1 "
   ]
  },
  {
   "cell_type": "code",
   "execution_count": 1,
   "id": "407bf6a7",
   "metadata": {},
   "outputs": [
    {
     "name": "stdout",
     "output_type": "stream",
     "text": [
      "Following is the Depth First Search:\n",
      "A\n",
      "B\n",
      "D\n",
      "E\n",
      "C\n",
      "F\n",
      "G\n"
     ]
    }
   ],
   "source": [
    "graph={\n",
    "    'A':['B','C'],\n",
    "    'B':['A','D','E'],\n",
    "    'C':['A','F','G'],\n",
    "    'D':['B'],\n",
    "    'E':['B'],\n",
    "    'F':['C'],\n",
    "    'G':['C']\n",
    "}\n",
    "\n",
    "visited=set()\n",
    "\n",
    "def dfs(graph,node,visited):\n",
    "    if node not in visited:\n",
    "        print(node)\n",
    "        visited.add(node)\n",
    "        for neighbour in graph[node]:\n",
    "            dfs(graph,neighbour,visited)\n",
    "print(\"Following is the Depth First Search:\")\n",
    "dfs(graph,'A',set())"
   ]
  },
  {
   "cell_type": "code",
   "execution_count": 2,
   "id": "91636b28",
   "metadata": {},
   "outputs": [
    {
     "name": "stdout",
     "output_type": "stream",
     "text": [
      "Following is the Breadth First Search:\n"
     ]
    },
    {
     "data": {
      "text/plain": [
       "{'A', 'B', 'C', 'D', 'E', 'F', 'G'}"
      ]
     },
     "execution_count": 2,
     "metadata": {},
     "output_type": "execute_result"
    }
   ],
   "source": [
    "graph={\n",
    "    'A':set(['B','C']),\n",
    "    'B':set(['A','D','E']),\n",
    "    'C':set(['A','F','G']),\n",
    "    'D':set(['B']),\n",
    "    'E':set(['B']),\n",
    "    'F':set(['C']),\n",
    "    'G':set(['C'])\n",
    "}\n",
    "\n",
    "def bfs(graph,start):\n",
    "    visited,queue=set(),[start]\n",
    "    while queue:\n",
    "        vertex=queue.pop(0)\n",
    "        if vertex not in visited:\n",
    "            visited.add(vertex)\n",
    "            queue.extend(graph[vertex]-visited)\n",
    "    return visited\n",
    "    \n",
    "print(\"Following is the Breadth First Search:\")\n",
    "bfs(graph,'A')"
   ]
  },
  {
   "cell_type": "code",
   "execution_count": null,
   "id": "e05c0623",
   "metadata": {},
   "outputs": [],
   "source": []
  }
 ],
 "metadata": {
  "kernelspec": {
   "display_name": "Python 3 (ipykernel)",
   "language": "python",
   "name": "python3"
  },
  "language_info": {
   "codemirror_mode": {
    "name": "ipython",
    "version": 3
   },
   "file_extension": ".py",
   "mimetype": "text/x-python",
   "name": "python",
   "nbconvert_exporter": "python",
   "pygments_lexer": "ipython3",
   "version": "3.9.13"
  }
 },
 "nbformat": 4,
 "nbformat_minor": 5
}
