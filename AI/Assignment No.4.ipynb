{
 "cells": [
  {
   "cell_type": "markdown",
   "id": "71f19cd2",
   "metadata": {},
   "source": [
    "# COTB42 PHULE PRATHAMESH DNYANDEV\n",
    "# Assignment No.4"
   ]
  },
  {
   "cell_type": "code",
   "execution_count": 1,
   "id": "98992703",
   "metadata": {},
   "outputs": [
    {
     "name": "stdout",
     "output_type": "stream",
     "text": [
      "1 0 0 0 0 0 0 0 \n",
      "0 0 0 0 0 0 1 0 \n",
      "0 0 0 0 1 0 0 0 \n",
      "0 0 0 0 0 0 0 1 \n",
      "0 1 0 0 0 0 0 0 \n",
      "0 0 0 1 0 0 0 0 \n",
      "0 0 0 0 0 1 0 0 \n",
      "0 0 1 0 0 0 0 0 \n"
     ]
    },
    {
     "data": {
      "text/plain": [
       "True"
      ]
     },
     "execution_count": 1,
     "metadata": {},
     "output_type": "execute_result"
    }
   ],
   "source": [
    "N=8\n",
    "def printSolution(board):\n",
    "    for i in range(N):\n",
    "        for j in range(N):\n",
    "            print(board[i][j], end = \" \")\n",
    "        print()\n",
    " \n",
    "def isSafe(row, col, slashCode, backslashCode,\n",
    "           rowLookup, slashCodeLookup,\n",
    "                       backslashCodeLookup):\n",
    "    if (slashCodeLookup[slashCode[row][col]] or\n",
    "        backslashCodeLookup[backslashCode[row][col]] or\n",
    "        rowLookup[row]):\n",
    "        return False\n",
    "    return True\n",
    " \n",
    "def solveNQueensUtil(board, col, slashCode, backslashCode,\n",
    "                     rowLookup, slashCodeLookup,\n",
    "                     backslashCodeLookup):\n",
    "                         \n",
    "    if(col >= N):\n",
    "        return True\n",
    "    for i in range(N):\n",
    "        if(isSafe(i, col, slashCode, backslashCode,\n",
    "                  rowLookup, slashCodeLookup,\n",
    "                  backslashCodeLookup)):\n",
    "                     \n",
    "            board[i][col] = 1\n",
    "            rowLookup[i] = True\n",
    "            slashCodeLookup[slashCode[i][col]] = True\n",
    "            backslashCodeLookup[backslashCode[i][col]] = True\n",
    "             \n",
    "            if(solveNQueensUtil(board, col + 1,\n",
    "                                slashCode, backslashCode,\n",
    "                                rowLookup, slashCodeLookup,\n",
    "                                backslashCodeLookup)):\n",
    "                return True\n",
    "             \n",
    "            board[i][col] = 0\n",
    "            rowLookup[i] = False\n",
    "            slashCodeLookup[slashCode[i][col]] = False\n",
    "            backslashCodeLookup[backslashCode[i][col]] = False\n",
    "             \n",
    "    return False\n",
    " \n",
    "def solveNQueens():\n",
    "    board = [[0 for i in range(N)]\n",
    "                for j in range(N)]\n",
    "     \n",
    "    # helper matrices\n",
    "    slashCode = [[0 for i in range(N)]\n",
    "                    for j in range(N)]\n",
    "    backslashCode = [[0 for i in range(N)]\n",
    "                        for j in range(N)]\n",
    "     \n",
    "    # arrays to tell us which rows are occupied\n",
    "    rowLookup = [False] * N\n",
    "     \n",
    "    # keep two arrays to tell us\n",
    "    # which diagonals are occupied\n",
    "    x = 2 * N - 1\n",
    "    slashCodeLookup = [False] * x\n",
    "    backslashCodeLookup = [False] * x\n",
    "     \n",
    "    # initialize helper matrices\n",
    "    for rr in range(N):\n",
    "        for cc in range(N):\n",
    "            slashCode[rr][cc] = rr + cc\n",
    "            backslashCode[rr][cc] = rr - cc + 7\n",
    "     \n",
    "    if(solveNQueensUtil(board, 0, slashCode, backslashCode,\n",
    "                        rowLookup, slashCodeLookup,\n",
    "                        backslashCodeLookup) == False):\n",
    "        print(\"Solution does not exist\")\n",
    "        return False\n",
    "         \n",
    "    # solution found\n",
    "    printSolution(board)\n",
    "    return True\n",
    " \n",
    "# Driver Code\n",
    "solveNQueens()"
   ]
  },
  {
   "cell_type": "code",
   "execution_count": null,
   "id": "df671261",
   "metadata": {},
   "outputs": [],
   "source": []
  }
 ],
 "metadata": {
  "kernelspec": {
   "display_name": "Python 3 (ipykernel)",
   "language": "python",
   "name": "python3"
  },
  "language_info": {
   "codemirror_mode": {
    "name": "ipython",
    "version": 3
   },
   "file_extension": ".py",
   "mimetype": "text/x-python",
   "name": "python",
   "nbconvert_exporter": "python",
   "pygments_lexer": "ipython3",
   "version": "3.9.13"
  }
 },
 "nbformat": 4,
 "nbformat_minor": 5
}
